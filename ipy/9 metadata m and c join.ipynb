{
 "cells": [
  {
   "cell_type": "code",
   "execution_count": 3,
   "metadata": {
    "collapsed": true
   },
   "outputs": [],
   "source": [
    "import pandas as pd"
   ]
  },
  {
   "cell_type": "code",
   "execution_count": 4,
   "metadata": {
    "collapsed": false
   },
   "outputs": [],
   "source": [
    "dfc = pd.read_csv(\"../site/data/metadata_crystals.csv\")\n",
    "dfm = pd.read_csv(\"../site/data/metadata_models.csv\")"
   ]
  },
  {
   "cell_type": "code",
   "execution_count": 5,
   "metadata": {
    "collapsed": true
   },
   "outputs": [],
   "source": [
    "pd.concat?"
   ]
  },
  {
   "cell_type": "code",
   "execution_count": 6,
   "metadata": {
    "collapsed": false
   },
   "outputs": [
    {
     "data": {
      "text/html": [
       "<div>\n",
       "<table border=\"1\" class=\"dataframe\">\n",
       "  <thead>\n",
       "    <tr style=\"text-align: right;\">\n",
       "      <th></th>\n",
       "      <th>H</th>\n",
       "      <th>N</th>\n",
       "      <th>chain</th>\n",
       "      <th>continent</th>\n",
       "      <th>host</th>\n",
       "      <th>host_class</th>\n",
       "      <th>location</th>\n",
       "      <th>p_id</th>\n",
       "      <th>sequence</th>\n",
       "      <th>subtype</th>\n",
       "      <th>template_id</th>\n",
       "      <th>year</th>\n",
       "    </tr>\n",
       "  </thead>\n",
       "  <tbody>\n",
       "    <tr>\n",
       "      <th>0</th>\n",
       "      <td>3</td>\n",
       "      <td>2</td>\n",
       "      <td>A</td>\n",
       "      <td>Asia</td>\n",
       "      <td>human</td>\n",
       "      <td>human</td>\n",
       "      <td>Aichi</td>\n",
       "      <td>1eo8</td>\n",
       "      <td>TATLCLGHHAVPNGTLVKTITDDQIEVTNATELVQSSSTGKICNN-...</td>\n",
       "      <td>H3N2</td>\n",
       "      <td>NaN</td>\n",
       "      <td>1968</td>\n",
       "    </tr>\n",
       "    <tr>\n",
       "      <th>1</th>\n",
       "      <td>3</td>\n",
       "      <td>2</td>\n",
       "      <td>A</td>\n",
       "      <td>Asia</td>\n",
       "      <td>human</td>\n",
       "      <td>human</td>\n",
       "      <td>Aichi</td>\n",
       "      <td>1ha0</td>\n",
       "      <td>TATLCLGHHAVPNGTLVKTITDDQIEVTNATELVQSSSTGKICNN-...</td>\n",
       "      <td>H3N2</td>\n",
       "      <td>NaN</td>\n",
       "      <td>1968</td>\n",
       "    </tr>\n",
       "    <tr>\n",
       "      <th>2</th>\n",
       "      <td>3</td>\n",
       "      <td>2</td>\n",
       "      <td>A</td>\n",
       "      <td>NaN</td>\n",
       "      <td>reassortant</td>\n",
       "      <td>reassortant</td>\n",
       "      <td>NaN</td>\n",
       "      <td>1hgd</td>\n",
       "      <td>TATLCLGHHAVPNGTLVKTITDDQIEVTNATELVQSSSTGKICNN-...</td>\n",
       "      <td>H3N2</td>\n",
       "      <td>NaN</td>\n",
       "      <td>NaN</td>\n",
       "    </tr>\n",
       "    <tr>\n",
       "      <th>3</th>\n",
       "      <td>3</td>\n",
       "      <td>2</td>\n",
       "      <td>A</td>\n",
       "      <td>NaN</td>\n",
       "      <td>reassortant</td>\n",
       "      <td>reassortant</td>\n",
       "      <td>NaN</td>\n",
       "      <td>1hge</td>\n",
       "      <td>TATLCLGHHAVPNGTLVKTITDDQIEVTNATELVQSSSTGKICNN-...</td>\n",
       "      <td>H3N2</td>\n",
       "      <td>NaN</td>\n",
       "      <td>NaN</td>\n",
       "    </tr>\n",
       "    <tr>\n",
       "      <th>4</th>\n",
       "      <td>3</td>\n",
       "      <td>2</td>\n",
       "      <td>A</td>\n",
       "      <td>NaN</td>\n",
       "      <td>reassortant</td>\n",
       "      <td>reassortant</td>\n",
       "      <td>NaN</td>\n",
       "      <td>1hgf</td>\n",
       "      <td>TATLCLGHHAVPNGTLVKTITDDQIEVTNATELVQSSSTGKICNN-...</td>\n",
       "      <td>H3N2</td>\n",
       "      <td>NaN</td>\n",
       "      <td>NaN</td>\n",
       "    </tr>\n",
       "  </tbody>\n",
       "</table>\n",
       "</div>"
      ],
      "text/plain": [
       "   H  N chain continent         host   host_class location  p_id  \\\n",
       "0  3  2     A      Asia        human        human    Aichi  1eo8   \n",
       "1  3  2     A      Asia        human        human    Aichi  1ha0   \n",
       "2  3  2     A       NaN  reassortant  reassortant      NaN  1hgd   \n",
       "3  3  2     A       NaN  reassortant  reassortant      NaN  1hge   \n",
       "4  3  2     A       NaN  reassortant  reassortant      NaN  1hgf   \n",
       "\n",
       "                                            sequence subtype template_id  year  \n",
       "0  TATLCLGHHAVPNGTLVKTITDDQIEVTNATELVQSSSTGKICNN-...    H3N2         NaN  1968  \n",
       "1  TATLCLGHHAVPNGTLVKTITDDQIEVTNATELVQSSSTGKICNN-...    H3N2         NaN  1968  \n",
       "2  TATLCLGHHAVPNGTLVKTITDDQIEVTNATELVQSSSTGKICNN-...    H3N2         NaN   NaN  \n",
       "3  TATLCLGHHAVPNGTLVKTITDDQIEVTNATELVQSSSTGKICNN-...    H3N2         NaN   NaN  \n",
       "4  TATLCLGHHAVPNGTLVKTITDDQIEVTNATELVQSSSTGKICNN-...    H3N2         NaN   NaN  "
      ]
     },
     "execution_count": 6,
     "metadata": {},
     "output_type": "execute_result"
    }
   ],
   "source": [
    "pd.concat([dfc, dfm]).head()"
   ]
  },
  {
   "cell_type": "code",
   "execution_count": null,
   "metadata": {
    "collapsed": true
   },
   "outputs": [],
   "source": []
  }
 ],
 "metadata": {
  "kernelspec": {
   "display_name": "Python 3",
   "language": "python",
   "name": "python3"
  },
  "language_info": {
   "codemirror_mode": {
    "name": "ipython",
    "version": 3
   },
   "file_extension": ".py",
   "mimetype": "text/x-python",
   "name": "python",
   "nbconvert_exporter": "python",
   "pygments_lexer": "ipython3",
   "version": "3.4.3"
  }
 },
 "nbformat": 4,
 "nbformat_minor": 0
}
